{
 "cells": [
  {
   "cell_type": "markdown",
   "id": "da453e7c-8549-4390-94b9-551126abd0d3",
   "metadata": {},
   "source": [
    "# Data Science Tools and Ecosystem"
   ]
  },
  {
   "cell_type": "markdown",
   "id": "f3985839-b81c-406d-b9a4-0b3400941fed",
   "metadata": {},
   "source": [
    "In this notebook, Data Science Tools and Ecosystem are summarized."
   ]
  },
  {
   "cell_type": "markdown",
   "id": "b69cf499-60ad-497b-9e98-46f361756535",
   "metadata": {},
   "source": [
    "Some of the popular languages that Data Scientists use are:\n",
    "1. Python\n",
    "2. R\n",
    "3. SAS\n",
    "4. C++"
   ]
  },
  {
   "cell_type": "markdown",
   "id": "20af5333-4150-4044-b106-b0727e476a59",
   "metadata": {},
   "source": [
    "Some of the commonly used libraries used by Data Scientists include:\n",
    "1. Numpy\n",
    "2. Pandas\n",
    "3. Matplotlib\n",
    "4. Scikit-learn"
   ]
  },
  {
   "cell_type": "markdown",
   "id": "748670ba-45de-4d15-88ca-08662b0c2281",
   "metadata": {},
   "source": [
    "|Data Science Tools|\n",
    "|------------------|\n",
    "|Jupter Notebook|\n",
    "|RStudio|\n",
    "|Spark|\n"
   ]
  },
  {
   "cell_type": "markdown",
   "id": "ea17345c-9ddd-4fde-bedf-b89d158551d5",
   "metadata": {},
   "source": [
    "### Below are a few examples of evaluating arithmetic expressions in Python"
   ]
  },
  {
   "cell_type": "code",
   "execution_count": 2,
   "id": "ce4835f5-d5ae-4a2a-af94-8c57cabd9bae",
   "metadata": {},
   "outputs": [
    {
     "data": {
      "text/plain": [
       "17"
      ]
     },
     "execution_count": 2,
     "metadata": {},
     "output_type": "execute_result"
    }
   ],
   "source": [
    "#This a simple arithmetic expression to mutiply then add integers\n",
    "(3*4)+5"
   ]
  },
  {
   "cell_type": "code",
   "execution_count": 8,
   "id": "259c8d04-0c68-4eda-9c80-0d8f989f580f",
   "metadata": {},
   "outputs": [
    {
     "name": "stdout",
     "output_type": "stream",
     "text": [
      "Hours= 3.3333333333333335\n"
     ]
    }
   ],
   "source": [
    "#This will convert 200 minutes to hours by diving by 60\n",
    "h=200/60\n",
    "print(\"Hours=\",h)\n"
   ]
  },
  {
   "cell_type": "markdown",
   "id": "3ae6a8dc-29fe-44bc-a3fb-3b086faf7c3b",
   "metadata": {},
   "source": [
    "**Objective:**\n",
    "- List popular languages for Data Science\n",
    "- List popular tools for Data Science\n",
    "- Study and practice hands on experience in using Jupiter Notebook, Git, etc"
   ]
  },
  {
   "cell_type": "markdown",
   "id": "415fa4a8-127a-404e-acd8-d32d7ce12f32",
   "metadata": {},
   "source": [
    "## Author\n",
    "Rachel He"
   ]
  },
  {
   "cell_type": "code",
   "execution_count": null,
   "id": "c57571ec-19d3-4d4f-a757-1c8eee0a7174",
   "metadata": {},
   "outputs": [],
   "source": []
  }
 ],
 "metadata": {
  "kernelspec": {
   "display_name": "Python 3 (ipykernel)",
   "language": "python",
   "name": "python3"
  },
  "language_info": {
   "codemirror_mode": {
    "name": "ipython",
    "version": 3
   },
   "file_extension": ".py",
   "mimetype": "text/x-python",
   "name": "python",
   "nbconvert_exporter": "python",
   "pygments_lexer": "ipython3",
   "version": "3.11.9"
  }
 },
 "nbformat": 4,
 "nbformat_minor": 5
}
